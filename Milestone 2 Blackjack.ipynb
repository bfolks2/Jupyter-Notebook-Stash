{
 "cells": [
  {
   "cell_type": "code",
   "execution_count": 2,
   "metadata": {
    "collapsed": true
   },
   "outputs": [],
   "source": [
    "import random #For shuffling the deck\n",
    "\n",
    "suits=('ofHearts','ofSpades','ofClubs','ofDiamonds')\n",
    "\n",
    "ranks=('Ace','2','3','4','5','6','7','8','9','10','Jack','Queen','King')\n",
    "#ranks=('Ace','Jack','Queen','King')\n",
    "\n",
    "value_keys={'Ace':1,'2':2,'3':3,'4':4,'5':5,'6':6,'7':7,'8':8,'9':9,'10':10,'Jack':10,'Queen':10,'King':10}\n",
    "#value_keys={'Ace':1,'Jack':10,'Queen':10,'King':10}"
   ]
  },
  {
   "cell_type": "code",
   "execution_count": 3,
   "metadata": {
    "collapsed": true
   },
   "outputs": [],
   "source": [
    "class Card(object):\n",
    "    \n",
    "    def __init__(self, suit, rank):\n",
    "        self.suit=suit\n",
    "        self.rank=rank\n",
    "        \n",
    "    def __str__(self):\n",
    "        return self.rank + self.suit\n",
    "        \n",
    "    def get_rank(self):\n",
    "        return self.rank\n",
    "    \n",
    "    def get_suit(self):\n",
    "        return self.suit\n",
    "    \n",
    "    def display_card(self):\n",
    "        print self.rank + self.suit"
   ]
  },
  {
   "cell_type": "code",
   "execution_count": 4,
   "metadata": {
    "collapsed": false
   },
   "outputs": [],
   "source": [
    "class Deck(object):\n",
    "    \n",
    "    def __init__(self):\n",
    "        self.deck= []\n",
    "        for suit in suits:\n",
    "            for rank in ranks:\n",
    "                self.deck.append(Card(suit,rank))\n",
    "    \n",
    "    def shuffle(self):\n",
    "        random.shuffle(self.deck)\n",
    "        \n",
    "    def draw_card(self):\n",
    "        drawn_card=self.deck.pop()\n",
    "        return drawn_card\n",
    "        #return drawn_card.rank + drawn_card.suit\n",
    "        \n",
    "    def __str__(self):\n",
    "        deck_str = ''\n",
    "        for card in self.deck:\n",
    "            deck_str=deck_str + card.rank + card.suit + ' '\n",
    "        \n",
    "        return deck_str\n",
    "            "
   ]
  },
  {
   "cell_type": "code",
   "execution_count": 47,
   "metadata": {
    "collapsed": false
   },
   "outputs": [],
   "source": [
    "class Hand(object):\n",
    "    \n",
    "    def __init__(self):\n",
    "        self.cards= []\n",
    "        self.value= 0\n",
    "        self.ace = False\n",
    "        \n",
    "    def add_card(self,card):\n",
    "        self.cards.append(card)\n",
    "        if card.rank == 'Ace':\n",
    "            self.ace= True\n",
    "        self.value = self.value + value_keys[card.rank]\n",
    "    \n",
    "    def __str__(self):\n",
    "        hand_str=''\n",
    "        for card in self.cards:\n",
    "            hand_str = hand_str + card.rank + card.suit + ' '\n",
    "        \n",
    "        return hand_str\n",
    "    \n",
    "    def calc_aceless(self):\n",
    "        aceless_value=0\n",
    "        for card in self.cards:\n",
    "            aceless_value = aceless_value + value_keys[card.rank]\n",
    "        return aceless_value\n",
    "    \n",
    "    def calc_value(self):\n",
    "        if self.ace == True:\n",
    "            if self.value<12:\n",
    "                self.value = self.value+10\n",
    "            else:\n",
    "                self.value=self.calc_aceless()\n",
    "                while self.value<12:\n",
    "                    self.value=self.value+10\n",
    "                \n",
    "        return self.value\n",
    "    \n",
    "    def display_hand(self, hidden):\n",
    "        if hidden == True:\n",
    "            starting_card=1\n",
    "            print 'Hidden Card'\n",
    "        else:\n",
    "            starting_card=0\n",
    "        for x in range(starting_card, len(self.cards)):\n",
    "            print self.cards[x].rank + self.cards[x].suit\n",
    "                "
   ]
  },
  {
   "cell_type": "code",
   "execution_count": 48,
   "metadata": {
    "collapsed": false
   },
   "outputs": [],
   "source": [
    "d=Deck()"
   ]
  },
  {
   "cell_type": "code",
   "execution_count": 49,
   "metadata": {
    "collapsed": false
   },
   "outputs": [],
   "source": [
    "d.shuffle()"
   ]
  },
  {
   "cell_type": "code",
   "execution_count": 50,
   "metadata": {
    "collapsed": false
   },
   "outputs": [
    {
     "name": "stdout",
     "output_type": "stream",
     "text": [
      "6ofClubs 2ofSpades AceofSpades KingofDiamonds 3ofDiamonds QueenofHearts JackofHearts QueenofDiamonds AceofClubs KingofHearts QueenofClubs 10ofSpades JackofDiamonds 2ofDiamonds 3ofClubs 5ofDiamonds QueenofSpades 7ofClubs 2ofClubs 4ofClubs 6ofDiamonds 9ofClubs 9ofDiamonds 8ofDiamonds 9ofHearts AceofDiamonds 9ofSpades JackofClubs 7ofDiamonds 8ofSpades 10ofDiamonds 6ofSpades 2ofHearts 10ofHearts KingofSpades 8ofClubs 3ofSpades 6ofHearts 7ofHearts 4ofDiamonds 10ofClubs 3ofHearts KingofClubs 7ofSpades 5ofClubs 4ofHearts 5ofHearts 4ofSpades 5ofSpades JackofSpades AceofHearts 8ofHearts \n"
     ]
    }
   ],
   "source": [
    "print d"
   ]
  },
  {
   "cell_type": "code",
   "execution_count": 51,
   "metadata": {
    "collapsed": false
   },
   "outputs": [],
   "source": [
    "h=Hand()"
   ]
  },
  {
   "cell_type": "code",
   "execution_count": 52,
   "metadata": {
    "collapsed": false
   },
   "outputs": [],
   "source": [
    "h.add_card(d.draw_card())"
   ]
  },
  {
   "cell_type": "code",
   "execution_count": 56,
   "metadata": {
    "collapsed": false
   },
   "outputs": [
    {
     "name": "stdout",
     "output_type": "stream",
     "text": [
      "8ofHearts\n",
      "AceofHearts\n"
     ]
    }
   ],
   "source": [
    "h.display_hand(False)"
   ]
  },
  {
   "cell_type": "code",
   "execution_count": 54,
   "metadata": {
    "collapsed": false
   },
   "outputs": [],
   "source": [
    "h.add_card(d.draw_card())"
   ]
  },
  {
   "cell_type": "code",
   "execution_count": 55,
   "metadata": {
    "collapsed": false
   },
   "outputs": [
    {
     "name": "stdout",
     "output_type": "stream",
     "text": [
      "Hidden Card\n",
      "AceofHearts\n"
     ]
    }
   ],
   "source": [
    "h.display_hand(True)"
   ]
  },
  {
   "cell_type": "code",
   "execution_count": null,
   "metadata": {
    "collapsed": false
   },
   "outputs": [],
   "source": []
  },
  {
   "cell_type": "code",
   "execution_count": null,
   "metadata": {
    "collapsed": false
   },
   "outputs": [],
   "source": []
  },
  {
   "cell_type": "code",
   "execution_count": null,
   "metadata": {
    "collapsed": false
   },
   "outputs": [],
   "source": []
  },
  {
   "cell_type": "code",
   "execution_count": null,
   "metadata": {
    "collapsed": false
   },
   "outputs": [],
   "source": []
  },
  {
   "cell_type": "code",
   "execution_count": null,
   "metadata": {
    "collapsed": false
   },
   "outputs": [],
   "source": []
  },
  {
   "cell_type": "code",
   "execution_count": null,
   "metadata": {
    "collapsed": true
   },
   "outputs": [],
   "source": []
  }
 ],
 "metadata": {
  "kernelspec": {
   "display_name": "Python 2",
   "language": "python",
   "name": "python2"
  },
  "language_info": {
   "codemirror_mode": {
    "name": "ipython",
    "version": 2
   },
   "file_extension": ".py",
   "mimetype": "text/x-python",
   "name": "python",
   "nbconvert_exporter": "python",
   "pygments_lexer": "ipython2",
   "version": "2.7.13"
  }
 },
 "nbformat": 4,
 "nbformat_minor": 2
}
