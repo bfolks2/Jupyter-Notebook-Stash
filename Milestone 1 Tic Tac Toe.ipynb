{
 "cells": [
  {
   "cell_type": "code",
   "execution_count": 105,
   "metadata": {
    "collapsed": false
   },
   "outputs": [],
   "source": [
    "from IPython.display import clear_output\n",
    "\n",
    "def display_board(board):\n",
    "    print '|' + board[7] + '|' + board[8] + '|' + board[9] + '|'\n",
    "    print '|' + board[4] + '|' + board[5] + '|' + board[6] + '|'\n",
    "    print '|' + board[1] + '|' + board[2] + '|' + board[3] + '|'\n",
    "\n",
    "#display_board(board)"
   ]
  },
  {
   "cell_type": "code",
   "execution_count": 106,
   "metadata": {
    "collapsed": true
   },
   "outputs": [],
   "source": [
    "def player_input():\n",
    "    marker=''\n",
    "    while not (marker=='X' or marker=='O'):\n",
    "        marker = raw_input(\"Player 1:  Do you want X's or O's?\").upper()\n",
    "    if marker=='X':\n",
    "        return('X','O')\n",
    "    else:\n",
    "        return('O','X')\n",
    " "
   ]
  },
  {
   "cell_type": "code",
   "execution_count": 107,
   "metadata": {
    "collapsed": false
   },
   "outputs": [],
   "source": [
    "def place_marker(board,marker,position):\n",
    "    board[position]=marker"
   ]
  },
  {
   "cell_type": "code",
   "execution_count": 108,
   "metadata": {
    "collapsed": false
   },
   "outputs": [],
   "source": [
    "def win_check(board,marker):\n",
    "    return ((board[7]==marker and board[8]==marker and board[9]==marker) or\n",
    "    (board[4]==marker and board[5]==marker and board[6]==marker) or\n",
    "    (board[1]==marker and board[2]==marker and board[3]==marker) or\n",
    "    (board[7]==marker and board[4]==marker and board[1]==marker) or\n",
    "    (board[8]==marker and board[5]==marker and board[2]==marker) or\n",
    "    (board[9]==marker and board[6]==marker and board[3]==marker) or\n",
    "    (board[7]==marker and board[5]==marker and board[3]==marker) or\n",
    "    (board[1]==marker and board[5]==marker and board[9]==marker))"
   ]
  },
  {
   "cell_type": "code",
   "execution_count": 109,
   "metadata": {
    "collapsed": true
   },
   "outputs": [],
   "source": [
    "import random\n",
    "\n",
    "def goes_first():\n",
    "    return random.randint(1,2)"
   ]
  },
  {
   "cell_type": "code",
   "execution_count": 139,
   "metadata": {
    "collapsed": false
   },
   "outputs": [],
   "source": [
    "def space_check(board, position):\n",
    "    return board[position]==' '"
   ]
  },
  {
   "cell_type": "code",
   "execution_count": 148,
   "metadata": {
    "collapsed": false
   },
   "outputs": [],
   "source": [
    "def is_fullboard(board):\n",
    "    for position in board:\n",
    "        if space_check(board,int(position)):\n",
    "            return False\n",
    "    else:\n",
    "        return True"
   ]
  },
  {
   "cell_type": "code",
   "execution_count": 149,
   "metadata": {
    "collapsed": false
   },
   "outputs": [],
   "source": [
    "def player_choice(board):\n",
    "    position=''\n",
    "    \n",
    "    while not position in '1 2 3 4 5 6 7 8 9'.split() or not space_check(board, int(position)):\n",
    "        position=raw_input('Please select your position on the keypad, 1-9')\n",
    "    return position"
   ]
  },
  {
   "cell_type": "code",
   "execution_count": 150,
   "metadata": {
    "collapsed": true
   },
   "outputs": [],
   "source": [
    "def replay():\n",
    "    answer=''\n",
    "    while not answer == 'Y' or not answer == 'N':\n",
    "        answer=raw_input('Another game? Y/N').upper()\n",
    "    return answer"
   ]
  },
  {
   "cell_type": "code",
   "execution_count": 151,
   "metadata": {
    "collapsed": true
   },
   "outputs": [],
   "source": [
    "#"
   ]
  },
  {
   "cell_type": "code",
   "execution_count": 152,
   "metadata": {
    "collapsed": false
   },
   "outputs": [
    {
     "name": "stdout",
     "output_type": "stream",
     "text": [
      "Player 1:  Do you want X's or O's?x\n",
      "Please select your position on the keypad, 1-95\n",
      "| | | |\n",
      "| |X| |\n",
      "| | | |\n"
     ]
    },
    {
     "ename": "ValueError",
     "evalue": "invalid literal for int() with base 10: ''",
     "output_type": "error",
     "traceback": [
      "\u001b[0;31m---------------------------------------------------------------------------\u001b[0m",
      "\u001b[0;31mValueError\u001b[0m                                Traceback (most recent call last)",
      "\u001b[0;32m<ipython-input-152-dc5f40a19529>\u001b[0m in \u001b[0;36m<module>\u001b[0;34m()\u001b[0m\n\u001b[1;32m     10\u001b[0m         \u001b[1;32mprint\u001b[0m \u001b[1;34m'Player 1 is the winner!!!  Player 2 SUCKS!!!!!'\u001b[0m\u001b[1;33m\u001b[0m\u001b[0m\n\u001b[1;32m     11\u001b[0m         \u001b[1;32mbreak\u001b[0m\u001b[1;33m\u001b[0m\u001b[0m\n\u001b[0;32m---> 12\u001b[0;31m     \u001b[1;32mif\u001b[0m \u001b[0mis_fullboard\u001b[0m\u001b[1;33m(\u001b[0m\u001b[0mboard\u001b[0m\u001b[1;33m)\u001b[0m\u001b[1;33m:\u001b[0m\u001b[1;33m\u001b[0m\u001b[0m\n\u001b[0m\u001b[1;32m     13\u001b[0m         \u001b[1;32mprint\u001b[0m \u001b[1;34m\"Cat's game, bitches!\"\u001b[0m\u001b[1;33m\u001b[0m\u001b[0m\n\u001b[1;32m     14\u001b[0m         \u001b[1;32mbreak\u001b[0m\u001b[1;33m\u001b[0m\u001b[0m\n",
      "\u001b[0;32m<ipython-input-148-d1e31ff8631b>\u001b[0m in \u001b[0;36mis_fullboard\u001b[0;34m(board)\u001b[0m\n\u001b[1;32m      1\u001b[0m \u001b[1;32mdef\u001b[0m \u001b[0mis_fullboard\u001b[0m\u001b[1;33m(\u001b[0m\u001b[0mboard\u001b[0m\u001b[1;33m)\u001b[0m\u001b[1;33m:\u001b[0m\u001b[1;33m\u001b[0m\u001b[0m\n\u001b[1;32m      2\u001b[0m     \u001b[1;32mfor\u001b[0m \u001b[0mposition\u001b[0m \u001b[1;32min\u001b[0m \u001b[0mboard\u001b[0m\u001b[1;33m:\u001b[0m\u001b[1;33m\u001b[0m\u001b[0m\n\u001b[0;32m----> 3\u001b[0;31m         \u001b[1;32mif\u001b[0m \u001b[0mspace_check\u001b[0m\u001b[1;33m(\u001b[0m\u001b[0mboard\u001b[0m\u001b[1;33m,\u001b[0m\u001b[0mint\u001b[0m\u001b[1;33m(\u001b[0m\u001b[0mposition\u001b[0m\u001b[1;33m)\u001b[0m\u001b[1;33m)\u001b[0m\u001b[1;33m:\u001b[0m\u001b[1;33m\u001b[0m\u001b[0m\n\u001b[0m\u001b[1;32m      4\u001b[0m             \u001b[1;32mreturn\u001b[0m \u001b[0mFalse\u001b[0m\u001b[1;33m\u001b[0m\u001b[0m\n\u001b[1;32m      5\u001b[0m     \u001b[1;32melse\u001b[0m\u001b[1;33m:\u001b[0m\u001b[1;33m\u001b[0m\u001b[0m\n",
      "\u001b[0;31mValueError\u001b[0m: invalid literal for int() with base 10: ''"
     ]
    }
   ],
   "source": [
    "board = [' ']*10\n",
    "player1marker,player2marker=player_input()\n",
    "    \n",
    "while True:\n",
    "    #Player 1\n",
    "    position=player_choice(board)\n",
    "    place_marker(board,player1marker,int(position))\n",
    "    display_board(board)\n",
    "    if win_check(board, player1marker):\n",
    "        print 'Player 1 is the winner!!!  Player 2 SUCKS!!!!!'\n",
    "        break\n",
    "    if is_fullboard(board):\n",
    "        print \"Cat's game, bitches!\"\n",
    "        break\n",
    "    #Player 2\n",
    "    position=player_choice(board)\n",
    "    place_marker(board,player2marker,int(position))\n",
    "    display_board(board)\n",
    "    if win_check(board, player2marker):\n",
    "        print 'Player 2 is the winner!!!  Player 1 SUCKS!!!!!'\n",
    "        break\n",
    "    if is_fullboard(board):\n",
    "        print \"Cat's game, bitches!\"\n",
    "        break"
   ]
  },
  {
   "cell_type": "code",
   "execution_count": null,
   "metadata": {
    "collapsed": false
   },
   "outputs": [],
   "source": [
    "'1 2 3 4 5 6 7 8 9'.split()"
   ]
  },
  {
   "cell_type": "code",
   "execution_count": null,
   "metadata": {
    "collapsed": true
   },
   "outputs": [],
   "source": []
  }
 ],
 "metadata": {
  "kernelspec": {
   "display_name": "Python 2",
   "language": "python",
   "name": "python2"
  },
  "language_info": {
   "codemirror_mode": {
    "name": "ipython",
    "version": 2
   },
   "file_extension": ".py",
   "mimetype": "text/x-python",
   "name": "python",
   "nbconvert_exporter": "python",
   "pygments_lexer": "ipython2",
   "version": "2.7.13"
  }
 },
 "nbformat": 4,
 "nbformat_minor": 2
}
