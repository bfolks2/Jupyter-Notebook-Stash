{
 "cells": [
  {
   "cell_type": "code",
   "execution_count": 1,
   "metadata": {
    "collapsed": false
   },
   "outputs": [
    {
     "ename": "TypeError",
     "evalue": "unsupported operand type(s) for +: 'int' and 'str'",
     "output_type": "error",
     "traceback": [
      "\u001b[0;31m---------------------------------------------------------------------------\u001b[0m",
      "\u001b[0;31mTypeError\u001b[0m                                 Traceback (most recent call last)",
      "\u001b[0;32m<ipython-input-1-f0fec53828a7>\u001b[0m in \u001b[0;36m<module>\u001b[0;34m()\u001b[0m\n\u001b[0;32m----> 1\u001b[0;31m \u001b[1;36m2\u001b[0m\u001b[1;33m+\u001b[0m\u001b[1;34m's'\u001b[0m\u001b[1;33m\u001b[0m\u001b[0m\n\u001b[0m",
      "\u001b[0;31mTypeError\u001b[0m: unsupported operand type(s) for +: 'int' and 'str'"
     ]
    }
   ],
   "source": [
    "2 + 's'"
   ]
  },
  {
   "cell_type": "code",
   "execution_count": 6,
   "metadata": {
    "collapsed": false
   },
   "outputs": [
    {
     "name": "stdout",
     "output_type": "stream",
     "text": [
      "There was an Error!\n",
      "Finally this was printed\n"
     ]
    }
   ],
   "source": [
    "try:\n",
    "    2 + 's'\n",
    "except:\n",
    "    print 'There was an Error!'\n",
    "finally:\n",
    "    print 'Finally this was printed'"
   ]
  },
  {
   "cell_type": "code",
   "execution_count": 9,
   "metadata": {
    "collapsed": false
   },
   "outputs": [
    {
     "name": "stdout",
     "output_type": "stream",
     "text": [
      "Error in writing to the file\n",
      "This line prints, regardless of exceptions\n"
     ]
    }
   ],
   "source": [
    "try:\n",
    "    f = open('TestFile123456','r')\n",
    "    f.write('Test Write This')\n",
    "except:\n",
    "    print 'Error in writing to the file'\n",
    "else:\n",
    "    print 'File write was a smashing success!'\n",
    "finally:\n",
    "    print 'This line prints, regardless of exceptions'"
   ]
  },
  {
   "cell_type": "code",
   "execution_count": 30,
   "metadata": {
    "collapsed": true
   },
   "outputs": [],
   "source": [
    "def askint():\n",
    "    while True:\n",
    "        try:\n",
    "            val=int(raw_input('Please enter an integer:  '))\n",
    "        except:\n",
    "            print 'Enter an actual integer, you dumbass'\n",
    "            continue\n",
    "        else:\n",
    "            print 'Well Done!'\n",
    "            break\n",
    "        finally:\n",
    "            print 'Looping Input Checker'\n",
    "    print 'You entered %i as your integer' %(val)"
   ]
  },
  {
   "cell_type": "code",
   "execution_count": 31,
   "metadata": {
    "collapsed": false
   },
   "outputs": [
    {
     "name": "stdout",
     "output_type": "stream",
     "text": [
      "Please enter an integer:  d\n",
      "Enter an actual integer, you dumbass\n",
      "Looping Input Checker\n",
      "Please enter an integer:  f\n",
      "Enter an actual integer, you dumbass\n",
      "Looping Input Checker\n",
      "Please enter an integer:  g\n",
      "Enter an actual integer, you dumbass\n",
      "Looping Input Checker\n",
      "Please enter an integer:  h\n",
      "Enter an actual integer, you dumbass\n",
      "Looping Input Checker\n",
      "Please enter an integer:  4\n",
      "Well Done!\n",
      "Looping Input Checker\n",
      "You entered 4 as your integer\n"
     ]
    }
   ],
   "source": [
    "askint()"
   ]
  },
  {
   "cell_type": "code",
   "execution_count": null,
   "metadata": {
    "collapsed": false
   },
   "outputs": [],
   "source": []
  },
  {
   "cell_type": "code",
   "execution_count": null,
   "metadata": {
    "collapsed": true
   },
   "outputs": [],
   "source": []
  }
 ],
 "metadata": {
  "kernelspec": {
   "display_name": "Python 2",
   "language": "python",
   "name": "python2"
  },
  "language_info": {
   "codemirror_mode": {
    "name": "ipython",
    "version": 2
   },
   "file_extension": ".py",
   "mimetype": "text/x-python",
   "name": "python",
   "nbconvert_exporter": "python",
   "pygments_lexer": "ipython2",
   "version": "2.7.13"
  }
 },
 "nbformat": 4,
 "nbformat_minor": 2
}
