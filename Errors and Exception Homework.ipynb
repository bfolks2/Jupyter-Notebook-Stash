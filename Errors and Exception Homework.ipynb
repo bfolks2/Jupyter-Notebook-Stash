{
 "cells": [
  {
   "cell_type": "code",
   "execution_count": 2,
   "metadata": {
    "collapsed": false
   },
   "outputs": [
    {
     "name": "stdout",
     "output_type": "stream",
     "text": [
      "Those aren't numbers\n"
     ]
    }
   ],
   "source": [
    "try:\n",
    "    for i in ['a','b','c']:\n",
    "        print i**2\n",
    "except:\n",
    "    print \"Those aren't numbers\""
   ]
  },
  {
   "cell_type": "code",
   "execution_count": 3,
   "metadata": {
    "collapsed": false
   },
   "outputs": [
    {
     "name": "stdout",
     "output_type": "stream",
     "text": [
      "The answer is:  2.5\n",
      "Finally line\n"
     ]
    }
   ],
   "source": [
    "x=5\n",
    "y=2\n",
    "\n",
    "try:\n",
    "    val=float(x)/y\n",
    "except:\n",
    "    print 'One cannot divide by zero'\n",
    "else:\n",
    "    print 'The answer is: ',val\n",
    "finally:\n",
    "    print 'Finally line'"
   ]
  },
  {
   "cell_type": "code",
   "execution_count": 4,
   "metadata": {
    "collapsed": true
   },
   "outputs": [],
   "source": [
    "from IPython.display import clear_output\n",
    "\n",
    "def ask():\n",
    "    while True:\n",
    "        try:\n",
    "            val=int(raw_input('Please enter an integer, you fool, and I shall square it:  '))\n",
    "        except:\n",
    "            clear_output()\n",
    "            print 'Please try again to enter an integer.  I know how difficult it can be:  '\n",
    "            continue\n",
    "        else:\n",
    "            break\n",
    "    \n",
    "    return val**2"
   ]
  },
  {
   "cell_type": "code",
   "execution_count": 5,
   "metadata": {
    "collapsed": false
   },
   "outputs": [
    {
     "name": "stdout",
     "output_type": "stream",
     "text": [
      "Please try again to enter an integer.  I know how difficult it can be:  \n",
      "Please enter an integer, you fool, and I shall square it:  5\n"
     ]
    },
    {
     "data": {
      "text/plain": [
       "25"
      ]
     },
     "execution_count": 5,
     "metadata": {},
     "output_type": "execute_result"
    }
   ],
   "source": [
    "ask()"
   ]
  },
  {
   "cell_type": "code",
   "execution_count": null,
   "metadata": {
    "collapsed": true
   },
   "outputs": [],
   "source": []
  }
 ],
 "metadata": {
  "kernelspec": {
   "display_name": "Python 2",
   "language": "python",
   "name": "python2"
  },
  "language_info": {
   "codemirror_mode": {
    "name": "ipython",
    "version": 2
   },
   "file_extension": ".py",
   "mimetype": "text/x-python",
   "name": "python",
   "nbconvert_exporter": "python",
   "pygments_lexer": "ipython2",
   "version": "2.7.13"
  }
 },
 "nbformat": 4,
 "nbformat_minor": 2
}
