{
 "cells": [
  {
   "cell_type": "code",
   "execution_count": 2,
   "metadata": {
    "collapsed": true
   },
   "outputs": [],
   "source": [
    "from ipywidgets import * #import everything"
   ]
  },
  {
   "cell_type": "code",
   "execution_count": 3,
   "metadata": {
    "collapsed": true
   },
   "outputs": [],
   "source": [
    "IntSlider()"
   ]
  },
  {
   "cell_type": "code",
   "execution_count": 5,
   "metadata": {
    "collapsed": false
   },
   "outputs": [],
   "source": [
    "from IPython.display import display"
   ]
  },
  {
   "cell_type": "code",
   "execution_count": 6,
   "metadata": {
    "collapsed": true
   },
   "outputs": [],
   "source": [
    "w=IntSlider()\n",
    "display(w)"
   ]
  },
  {
   "cell_type": "code",
   "execution_count": 7,
   "metadata": {
    "collapsed": true
   },
   "outputs": [],
   "source": [
    "display(w)"
   ]
  },
  {
   "cell_type": "code",
   "execution_count": 8,
   "metadata": {
    "collapsed": true
   },
   "outputs": [],
   "source": [
    "w.close()"
   ]
  },
  {
   "cell_type": "code",
   "execution_count": 10,
   "metadata": {
    "collapsed": true
   },
   "outputs": [],
   "source": [
    "###"
   ]
  },
  {
   "cell_type": "code",
   "execution_count": 9,
   "metadata": {
    "collapsed": true
   },
   "outputs": [],
   "source": [
    "w=IntSlider()\n",
    "display(w)"
   ]
  },
  {
   "cell_type": "code",
   "execution_count": 12,
   "metadata": {
    "collapsed": false
   },
   "outputs": [
    {
     "data": {
      "text/plain": [
       "54"
      ]
     },
     "execution_count": 12,
     "metadata": {},
     "output_type": "execute_result"
    }
   ],
   "source": [
    "w.value"
   ]
  },
  {
   "cell_type": "code",
   "execution_count": 13,
   "metadata": {
    "collapsed": true
   },
   "outputs": [],
   "source": [
    "w.value=22"
   ]
  },
  {
   "cell_type": "code",
   "execution_count": 14,
   "metadata": {
    "collapsed": false
   },
   "outputs": [
    {
     "data": {
      "text/plain": [
       "['_view_name',\n",
       " 'orientation',\n",
       " 'color',\n",
       " '_view_module',\n",
       " 'disabled',\n",
       " 'visible',\n",
       " 'readout_format',\n",
       " '_model_module',\n",
       " 'font_style',\n",
       " 'layout',\n",
       " 'min',\n",
       " '_range',\n",
       " 'background_color',\n",
       " 'slider_color',\n",
       " 'continuous_update',\n",
       " 'font_family',\n",
       " '_dom_classes',\n",
       " 'description',\n",
       " '_model_name',\n",
       " 'max',\n",
       " 'readout',\n",
       " 'font_weight',\n",
       " 'step',\n",
       " 'font_size',\n",
       " 'msg_throttle',\n",
       " 'value']"
      ]
     },
     "execution_count": 14,
     "metadata": {},
     "output_type": "execute_result"
    }
   ],
   "source": [
    "w.keys"
   ]
  },
  {
   "cell_type": "code",
   "execution_count": 15,
   "metadata": {
    "collapsed": true
   },
   "outputs": [],
   "source": [
    "Text(value='hello world',disabled=True)"
   ]
  },
  {
   "cell_type": "code",
   "execution_count": 18,
   "metadata": {
    "collapsed": true
   },
   "outputs": [],
   "source": [
    "from traitlets import link\n",
    "a=FloatText()\n",
    "b=FloatSlider()\n",
    "\n",
    "display(a,b)\n",
    "\n",
    "mylink=link((a,'value'),(b,'value'))"
   ]
  },
  {
   "cell_type": "code",
   "execution_count": 19,
   "metadata": {
    "collapsed": true
   },
   "outputs": [],
   "source": [
    "mylink.unlink()"
   ]
  },
  {
   "cell_type": "code",
   "execution_count": null,
   "metadata": {
    "collapsed": true
   },
   "outputs": [],
   "source": []
  }
 ],
 "metadata": {
  "kernelspec": {
   "display_name": "Python 2",
   "language": "python",
   "name": "python2"
  },
  "language_info": {
   "codemirror_mode": {
    "name": "ipython",
    "version": 2
   },
   "file_extension": ".py",
   "mimetype": "text/x-python",
   "name": "python",
   "nbconvert_exporter": "python",
   "pygments_lexer": "ipython2",
   "version": "2.7.13"
  },
  "widgets": {
   "state": {
    "25cc3e0c4fb5422788446fb47889266b": {
     "views": [
      {
       "cell_index": 12
      }
     ]
    },
    "314d75da441d445082aa426aa4062f8a": {
     "views": [
      {
       "cell_index": 12
      }
     ]
    },
    "8cdbfae526db4b0f89b9dff3de9b2ede": {
     "views": [
      {
       "cell_index": 12
      }
     ]
    },
    "8d20fa926e4d4127b0a56d7d78d7e3ea": {
     "views": [
      {
       "cell_index": 1
      }
     ]
    },
    "a0a88570c4b14bcfaf8b51249f11ff14": {
     "views": [
      {
       "cell_index": 6
      }
     ]
    },
    "c97c1f9a1729497598c70aef4882005b": {
     "views": [
      {
       "cell_index": 11
      }
     ]
    }
   },
   "version": "1.2.0"
  }
 },
 "nbformat": 4,
 "nbformat_minor": 2
}
